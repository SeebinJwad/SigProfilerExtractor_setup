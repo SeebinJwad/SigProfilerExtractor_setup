{
 "cells": [
  {
   "cell_type": "code",
   "execution_count": 19,
   "id": "4325fcb5",
   "metadata": {
    "ExecuteTime": {
     "end_time": "2022-05-16T19:24:30.047006Z",
     "start_time": "2022-05-16T19:24:30.033014Z"
    }
   },
   "outputs": [],
   "source": [
    "import pandas as pd\n",
    "import numpy as np"
   ]
  },
  {
   "cell_type": "code",
   "execution_count": 66,
   "id": "8d4b0c37",
   "metadata": {
    "ExecuteTime": {
     "end_time": "2022-05-16T20:20:56.982840Z",
     "start_time": "2022-05-16T20:20:47.369864Z"
    }
   },
   "outputs": [],
   "source": [
    "columns_of_interest = ['Mutation ID', 'Otherinfo11', 'Gene.refGene']\n",
    "master_file = \"CDDR_MasterMaf_Jawad.xlsx\"\n",
    "\n",
    "# , usecols=columns_of_interest\n",
    "\n",
    "df1 = pd.read_excel(master_file, sheet_name=0)\n",
    "df2 = pd.read_excel(master_file, sheet_name=1)\n",
    "df3 = pd.read_excel(master_file, sheet_name=2)\n",
    "\n",
    "df1 = add_parent_num(df1, \"PCI13\")\n",
    "df2 = add_parent_num(df2, \"HN31\")\n",
    "df3 = add_parent_num(df3, \"HN30\")\n",
    "\n",
    "mf = pd.concat([df1,df2,df3])\n",
    "mf.reset_index(drop=True, inplace=True)"
   ]
  },
  {
   "cell_type": "code",
   "execution_count": 61,
   "id": "369f0bc8",
   "metadata": {
    "ExecuteTime": {
     "end_time": "2022-05-16T20:16:00.256091Z",
     "start_time": "2022-05-16T20:16:00.239086Z"
    }
   },
   "outputs": [],
   "source": [
    "def add_parent_num(df, parent):\n",
    "    df['Mutation ID'] = parent + df['Mutation ID'] + df['Gene.refGene']\n",
    "    return df"
   ]
  },
  {
   "cell_type": "code",
   "execution_count": 85,
   "id": "77d6e1ab",
   "metadata": {
    "ExecuteTime": {
     "end_time": "2022-05-16T20:34:55.234192Z",
     "start_time": "2022-05-16T20:34:55.213199Z"
    }
   },
   "outputs": [
    {
     "name": "stdout",
     "output_type": "stream",
     "text": [
      "<bound method Series.unique of 3790    SAMPLE=VE_22252;TYPE=SNV;DP=1400;VD=687;AF=0.4...\n",
      "4798    SAMPLE=VE_22253;TYPE=SNV;DP=1293;VD=652;AF=0.5...\n",
      "5805    SAMPLE=VE_22254;TYPE=SNV;DP=1335;VD=699;AF=0.5...\n",
      "6435    SAMPLE=VE_22255;TYPE=SNV;DP=1120;VD=492;AF=0.4...\n",
      "Name: Otherinfo11, dtype: object>\n",
      "HN31P10AHN31chr22_50288971_G_APLXNB2nanchr225028897150288971nanGAexonicPLXNB2nan11.54e-05.nonsynonymous SNVPLXNB2:NM_001376869:exon3:c.C1240T:p.R414W,PLXNB2:NM_001376875:exon3:c.C1240T:p.R414W,PLXNB2:NM_001376878:exon3:c.C1240T:p.R414W,PLXNB2:NM_001376884:exon3:c.C1240T:p.R414W,PLXNB2:NM_001376864:exon4:c.C1240T:p.R414W,PLXNB2:NM_001376865:exon4:c.C1240T:p.R414W,PLXNB2:NM_001376866:exon4:c.C1240T:p.R414W,PLXNB2:NM_001376870:exon4:c.C1240T:p.R414W,PLXNB2:NM_001376871:exon4:c.C1240T:p.R414W,PLXNB2:NM_001376880:exon4:c.C1240T:p.R414W,PLXNB2:NM_001376882:exon4:c.C1240T:p.R414W,PLXNB2:NM_001376883:exon4:c.C1240T:p.R414W,PLXNB2:NM_001376885:exon4:c.C1240T:p.R414W,PLXNB2:NM_012401:exon4:c.C1240T:p.R414W,PLXNB2:NM_001376867:exon5:c.C1240T:p.R414W,PLXNB2:NM_001376868:exon5:c.C1240T:p.R414W,PLXNB2:NM_001376873:exon5:c.C1240T:p.R414W,PLXNB2:NM_001376874:exon5:c.C1240T:p.R414W,PLXNB2:NM_001376876:exon5:c.C1240T:p.R414W,PLXNB2:NM_001376877:exon5:c.C1240T:p.R414W,PLXNB2:NM_001376881:exon5:c.C1240T:p.R414W,PLXNB2:NM_001376886:exon5:c.C1240T:p.R414W,PLXNB2:NM_001376872:exon6:c.C1240T:p.R414W,PLXNB2:NM_001376879:exon6:c.C1240T:p.R414Wnannan8.47e-0600001.54e-0500...........4.05e-068.97e-067.43e-0607.99e-0600008.97e-060009.14e-061.14e-059.85e-06..0.514001400chr2250288971.GA1400PASSSAMPLE=VE_22252;TYPE=SNV;DP=1400;VD=687;AF=0.4907;BIAS=2:2;REFBIAS=401:311;VARBIAS=390:297;PMEAN=27.5;PSTD=1;QUAL=36.1;QSTD=1;SBF=0.87159;ODDRATIO=1.0184025337855;MQ=44;SN=51.846;HIAF=0.4873;ADJAF=0.0157;SHIFT3=0;MSI=2;MSILEN=1;NM=1.1;HICNT=674;HICOV=1383;LSEQ=GGGCCAAACCTTGAGGATCC;RSEQ=GCCATCAGAGGTGCCCAGAA;DUPRATE=0;SPLITREAD=0;SPANPAIR=0GT:DP:AF0/1:1400:0.4907.nannannannannannannannannannannan\n",
      "HN31P10CHN31chr22_50288971_G_APLXNB2nanchr225028897150288971nanGAexonicPLXNB2nan11.54e-05.nonsynonymous SNVPLXNB2:NM_001376869:exon3:c.C1240T:p.R414W,PLXNB2:NM_001376875:exon3:c.C1240T:p.R414W,PLXNB2:NM_001376878:exon3:c.C1240T:p.R414W,PLXNB2:NM_001376884:exon3:c.C1240T:p.R414W,PLXNB2:NM_001376864:exon4:c.C1240T:p.R414W,PLXNB2:NM_001376865:exon4:c.C1240T:p.R414W,PLXNB2:NM_001376866:exon4:c.C1240T:p.R414W,PLXNB2:NM_001376870:exon4:c.C1240T:p.R414W,PLXNB2:NM_001376871:exon4:c.C1240T:p.R414W,PLXNB2:NM_001376880:exon4:c.C1240T:p.R414W,PLXNB2:NM_001376882:exon4:c.C1240T:p.R414W,PLXNB2:NM_001376883:exon4:c.C1240T:p.R414W,PLXNB2:NM_001376885:exon4:c.C1240T:p.R414W,PLXNB2:NM_012401:exon4:c.C1240T:p.R414W,PLXNB2:NM_001376867:exon5:c.C1240T:p.R414W,PLXNB2:NM_001376868:exon5:c.C1240T:p.R414W,PLXNB2:NM_001376873:exon5:c.C1240T:p.R414W,PLXNB2:NM_001376874:exon5:c.C1240T:p.R414W,PLXNB2:NM_001376876:exon5:c.C1240T:p.R414W,PLXNB2:NM_001376877:exon5:c.C1240T:p.R414W,PLXNB2:NM_001376881:exon5:c.C1240T:p.R414W,PLXNB2:NM_001376886:exon5:c.C1240T:p.R414W,PLXNB2:NM_001376872:exon6:c.C1240T:p.R414W,PLXNB2:NM_001376879:exon6:c.C1240T:p.R414Wnannan8.47e-0600001.54e-0500...........4.05e-068.97e-067.43e-0607.99e-0600008.97e-060009.14e-061.14e-059.85e-06..0.512931293chr2250288971.GA1293PASSSAMPLE=VE_22253;TYPE=SNV;DP=1293;VD=652;AF=0.5043;BIAS=2:2;REFBIAS=362:279;VARBIAS=321:331;PMEAN=27.2;PSTD=1;QUAL=36.3;QSTD=1;SBF=0.01036;ODDRATIO=1.33759;MQ=44;SN=58.273;HIAF=0.5012;ADJAF=0.0201;SHIFT3=0;MSI=2;MSILEN=1;NM=1.0;HICNT=641;HICOV=1279;LSEQ=GGGCCAAACCTTGAGGATCC;RSEQ=GCCATCAGAGGTGCCCAGAA;DUPRATE=0;SPLITREAD=0;SPANPAIR=0GT:DP:AF0/1:1293:0.5043.nannannannannannannannannannannan\n",
      "HN31P10DHN31chr22_50288971_G_APLXNB2nanchr225028897150288971nanGAexonicPLXNB2nan11.54e-05.nonsynonymous SNVPLXNB2:NM_001376869:exon3:c.C1240T:p.R414W,PLXNB2:NM_001376875:exon3:c.C1240T:p.R414W,PLXNB2:NM_001376878:exon3:c.C1240T:p.R414W,PLXNB2:NM_001376884:exon3:c.C1240T:p.R414W,PLXNB2:NM_001376864:exon4:c.C1240T:p.R414W,PLXNB2:NM_001376865:exon4:c.C1240T:p.R414W,PLXNB2:NM_001376866:exon4:c.C1240T:p.R414W,PLXNB2:NM_001376870:exon4:c.C1240T:p.R414W,PLXNB2:NM_001376871:exon4:c.C1240T:p.R414W,PLXNB2:NM_001376880:exon4:c.C1240T:p.R414W,PLXNB2:NM_001376882:exon4:c.C1240T:p.R414W,PLXNB2:NM_001376883:exon4:c.C1240T:p.R414W,PLXNB2:NM_001376885:exon4:c.C1240T:p.R414W,PLXNB2:NM_012401:exon4:c.C1240T:p.R414W,PLXNB2:NM_001376867:exon5:c.C1240T:p.R414W,PLXNB2:NM_001376868:exon5:c.C1240T:p.R414W,PLXNB2:NM_001376873:exon5:c.C1240T:p.R414W,PLXNB2:NM_001376874:exon5:c.C1240T:p.R414W,PLXNB2:NM_001376876:exon5:c.C1240T:p.R414W,PLXNB2:NM_001376877:exon5:c.C1240T:p.R414W,PLXNB2:NM_001376881:exon5:c.C1240T:p.R414W,PLXNB2:NM_001376886:exon5:c.C1240T:p.R414W,PLXNB2:NM_001376872:exon6:c.C1240T:p.R414W,PLXNB2:NM_001376879:exon6:c.C1240T:p.R414Wnannan8.47e-0600001.54e-0500...........4.05e-068.97e-067.43e-0607.99e-0600008.97e-060009.14e-061.14e-059.85e-06..0.513351335chr2250288971.GA1335PASSSAMPLE=VE_22254;TYPE=SNV;DP=1335;VD=699;AF=0.5236;BIAS=2:2;REFBIAS=373:258;VARBIAS=367:332;PMEAN=29.1;PSTD=1;QUAL=36.3;QSTD=1;SBF=0.01745;ODDRATIO=1.30758;MQ=44;SN=57.25;HIAF=0.5208;ADJAF=0.0202;SHIFT3=0;MSI=2;MSILEN=1;NM=1.1;HICNT=687;HICOV=1319;LSEQ=GGGCCAAACCTTGAGGATCC;RSEQ=GCCATCAGAGGTGCCCAGAA;DUPRATE=0;SPLITREAD=0;SPANPAIR=0GT:DP:AF0/1:1335:0.5236.nannannannannannannannannannannan\n",
      "HN31P14HN31chr22_50288971_G_APLXNB2nanchr225028897150288971nanGAexonicPLXNB2nan11.54e-05.nonsynonymous SNVPLXNB2:NM_001376869:exon3:c.C1240T:p.R414W,PLXNB2:NM_001376875:exon3:c.C1240T:p.R414W,PLXNB2:NM_001376878:exon3:c.C1240T:p.R414W,PLXNB2:NM_001376884:exon3:c.C1240T:p.R414W,PLXNB2:NM_001376864:exon4:c.C1240T:p.R414W,PLXNB2:NM_001376865:exon4:c.C1240T:p.R414W,PLXNB2:NM_001376866:exon4:c.C1240T:p.R414W,PLXNB2:NM_001376870:exon4:c.C1240T:p.R414W,PLXNB2:NM_001376871:exon4:c.C1240T:p.R414W,PLXNB2:NM_001376880:exon4:c.C1240T:p.R414W,PLXNB2:NM_001376882:exon4:c.C1240T:p.R414W,PLXNB2:NM_001376883:exon4:c.C1240T:p.R414W,PLXNB2:NM_001376885:exon4:c.C1240T:p.R414W,PLXNB2:NM_012401:exon4:c.C1240T:p.R414W,PLXNB2:NM_001376867:exon5:c.C1240T:p.R414W,PLXNB2:NM_001376868:exon5:c.C1240T:p.R414W,PLXNB2:NM_001376873:exon5:c.C1240T:p.R414W,PLXNB2:NM_001376874:exon5:c.C1240T:p.R414W,PLXNB2:NM_001376876:exon5:c.C1240T:p.R414W,PLXNB2:NM_001376877:exon5:c.C1240T:p.R414W,PLXNB2:NM_001376881:exon5:c.C1240T:p.R414W,PLXNB2:NM_001376886:exon5:c.C1240T:p.R414W,PLXNB2:NM_001376872:exon6:c.C1240T:p.R414W,PLXNB2:NM_001376879:exon6:c.C1240T:p.R414Wnannan8.47e-0600001.54e-0500...........4.05e-068.97e-067.43e-0607.99e-0600008.97e-060009.14e-061.14e-059.85e-06..0.511201120chr2250288971.GA1120PASSSAMPLE=VE_22255;TYPE=SNV;DP=1120;VD=492;AF=0.4393;BIAS=2:2;REFBIAS=328:299;VARBIAS=261:231;PMEAN=27.1;PSTD=1;QUAL=36.6;QSTD=1;SBF=0.80968;ODDRATIO=1.02996158243298;MQ=44;SN=122;HIAF=0.4404;ADJAF=0.0107;SHIFT3=0;MSI=2;MSILEN=1;NM=1.0;HICNT=488;HICOV=1108;LSEQ=GGGCCAAACCTTGAGGATCC;RSEQ=GCCATCAGAGGTGCCCAGAA;DUPRATE=0;SPLITREAD=0;SPANPAIR=0GT:DP:AF0/1:1120:0.4393.nannannannannannannannannannannan\n"
     ]
    }
   ],
   "source": [
    "# all with same mutation ID and the exact same values\n",
    "sim_mf = mf.loc[mf['Mutation ID'] == \"HN31chr22_50288971_G_APLXNB2\"]\n",
    "print(sim_mf[\"Otherinfo11\"].unique)\n",
    "sim_mf = sim_mf.astype(str)\n",
    "sim_mf_all = sim_mf.apply(''.join, axis=1).to_numpy()\n",
    "\n",
    "for x in sim_mf_all:\n",
    "    print(x)"
   ]
  },
  {
   "cell_type": "code",
   "execution_count": 6,
   "id": "23fe5753",
   "metadata": {
    "ExecuteTime": {
     "end_time": "2022-05-16T18:36:03.351176Z",
     "start_time": "2022-05-16T18:36:03.332183Z"
    }
   },
   "outputs": [
    {
     "name": "stdout",
     "output_type": "stream",
     "text": [
      "Index(['samples', 'Mutation ID', 'Unnamed: 2', 'Chr', 'Start', 'End',\n",
      "       'Edge case', 'Ref', 'Alt', 'Func.refGene', 'Gene.refGene',\n",
      "       'Gene.refGene.1', 'max norm<1/10,000', 'max normal AF',\n",
      "       'GeneDetail.refGene', 'ExonicFunc.refGene', 'AAChange.refGene',\n",
      "       'Unnamed: 17', 'Unnamed: 18', 'ExAC_ALL', 'ExAC_AFR', 'ExAC_AMR',\n",
      "       'ExAC_EAS', 'ExAC_FIN', 'ExAC_NFE', 'ExAC_OTH', 'ExAC_SAS',\n",
      "       'abraom_freq', 'abraom_cegh_filter', 'esp6500siv2_all', 'GME_AF',\n",
      "       'GME_NWA', 'GME_NEA', 'GME_AP', 'GME_Israel', 'GME_SD', 'GME_TP',\n",
      "       'GME_CA', 'AF', 'AF_popmax', 'AF_male', 'AF_female', 'AF_raw', 'AF_afr',\n",
      "       'AF_sas', 'AF_amr', 'AF_eas', 'AF_nfe', 'AF_fin', 'AF_asj', 'AF_oth',\n",
      "       'non_topmed_AF_popmax', 'non_neuro_AF_popmax', 'non_cancer_AF_popmax',\n",
      "       'controls_AF_popmax', 'cosmic70', 'Otherinfo1', 'Otherinfo2',\n",
      "       'Otherinfo3', 'Otherinfo4', 'Otherinfo5', 'Otherinfo6', 'Otherinfo7',\n",
      "       'Otherinfo8', 'Otherinfo9', 'Otherinfo10', 'Otherinfo11', 'Otherinfo12',\n",
      "       'Otherinfo13', 'abraom_filter', 'Unnamed: 70', 'Unnamed: 71',\n",
      "       'Unnamed: 72', 'Unnamed: 73', 'Unnamed: 74', 'Unnamed: 75',\n",
      "       'Unnamed: 76', 'Unnamed: 77', 'Unnamed: 78', 'Unnamed: 79',\n",
      "       'Unnamed: 80'],\n",
      "      dtype='object')\n"
     ]
    }
   ],
   "source": [
    "print(mf.columns)"
   ]
  },
  {
   "cell_type": "code",
   "execution_count": 65,
   "id": "a7b15af6",
   "metadata": {
    "ExecuteTime": {
     "end_time": "2022-05-16T20:17:20.720934Z",
     "start_time": "2022-05-16T20:17:20.489885Z"
    }
   },
   "outputs": [
    {
     "name": "stdout",
     "output_type": "stream",
     "text": [
      "HN31chr22_50288971_G_APLXNB2       4\n",
      "PCI13chr19_52613686_CT_TAZNF83     4\n",
      "HN30chr3_27721936_0_CGGCGCEOMES    4\n",
      "HN31chr19_35134589_C_TLGI4         4\n",
      "HN31chr6_138785322_C_ACCDC28A      4\n",
      "                                  ..\n",
      "PCI13chr6_70130214_A_TCOL19A1      1\n",
      "PCI13chr3_167333956_CA_ACZBBX      1\n",
      "HN30chr19_48612939_A_CFAM83E       1\n",
      "HN31chr18_43274040_TC_AASYT4       1\n",
      "HN31chr19_17058563_C_AHAUS8        1\n",
      "Name: Mutation ID, Length: 6586, dtype: int64\n",
      "8249\n"
     ]
    }
   ],
   "source": [
    "print(mf['Mutation ID'].value_counts())\n",
    "print(len(mf))"
   ]
  },
  {
   "cell_type": "code",
   "execution_count": 45,
   "id": "35b19ce3",
   "metadata": {
    "ExecuteTime": {
     "end_time": "2022-05-16T20:04:55.058263Z",
     "start_time": "2022-05-16T20:04:52.322293Z"
    }
   },
   "outputs": [
    {
     "data": {
      "text/html": [
       "<div>\n",
       "<style scoped>\n",
       "    .dataframe tbody tr th:only-of-type {\n",
       "        vertical-align: middle;\n",
       "    }\n",
       "\n",
       "    .dataframe tbody tr th {\n",
       "        vertical-align: top;\n",
       "    }\n",
       "\n",
       "    .dataframe thead th {\n",
       "        text-align: right;\n",
       "    }\n",
       "</style>\n",
       "<table border=\"1\" class=\"dataframe\">\n",
       "  <thead>\n",
       "    <tr style=\"text-align: right;\">\n",
       "      <th></th>\n",
       "      <th>Parental</th>\n",
       "      <th>Mutation ID</th>\n",
       "      <th>AAChange.refGene</th>\n",
       "    </tr>\n",
       "  </thead>\n",
       "  <tbody>\n",
       "    <tr>\n",
       "      <th>0</th>\n",
       "      <td>HN30</td>\n",
       "      <td>chr1_100133310_GC_AT</td>\n",
       "      <td>TRMT13:NM_019083:exon1:c.142_143delinsAT:p.A48M</td>\n",
       "    </tr>\n",
       "    <tr>\n",
       "      <th>1</th>\n",
       "      <td>HN31</td>\n",
       "      <td>chr1_100133310_GC_AT</td>\n",
       "      <td>TRMT13:NM_019083:exon1:c.142_143delinsAT:p.A48M</td>\n",
       "    </tr>\n",
       "    <tr>\n",
       "      <th>2</th>\n",
       "      <td>HN30</td>\n",
       "      <td>chr11_71527629_0_CTGCTGCCAGTCCAGCTGCTGTAAGCCCT...</td>\n",
       "      <td>KRTAP5-7:NM_001012503:exon1:c.329_330insCTGCTG...</td>\n",
       "    </tr>\n",
       "    <tr>\n",
       "      <th>3</th>\n",
       "      <td>HN31</td>\n",
       "      <td>chr11_71527629_0_CTGCTGCCAGTCCAGCTGCTGTAAGCCCT...</td>\n",
       "      <td>KRTAP5-7:NM_001012503:exon1:c.329_330insCTGCTG...</td>\n",
       "    </tr>\n",
       "    <tr>\n",
       "      <th>4</th>\n",
       "      <td>HN30</td>\n",
       "      <td>chr15_20534591_TCTCCTCCTGCTCTCGTATCTTCTCCTCCTG...</td>\n",
       "      <td>GOLGA6L6:NM_001145004:exon8:c.1801_1842del:p.K...</td>\n",
       "    </tr>\n",
       "    <tr>\n",
       "      <th>...</th>\n",
       "      <td>...</td>\n",
       "      <td>...</td>\n",
       "      <td>...</td>\n",
       "    </tr>\n",
       "    <tr>\n",
       "      <th>6545</th>\n",
       "      <td>HN30</td>\n",
       "      <td>chrX_9937370_G_A</td>\n",
       "      <td>SHROOM2:NM_001320663:exon3:c.G329A:p.R110K,SHR...</td>\n",
       "    </tr>\n",
       "    <tr>\n",
       "      <th>6546</th>\n",
       "      <td>HN30</td>\n",
       "      <td>chrY_20780968_G_T</td>\n",
       "      <td>RPS4Y2:NM_001039567:exon7:c.G728T:p.G243V</td>\n",
       "    </tr>\n",
       "    <tr>\n",
       "      <th>6547</th>\n",
       "      <td>PCI13</td>\n",
       "      <td>chrY_5098304_A_T</td>\n",
       "      <td>PCDH11Y:NM_032972:exon2:c.A726T:p.E242D,PCDH11...</td>\n",
       "    </tr>\n",
       "    <tr>\n",
       "      <th>6548</th>\n",
       "      <td>HN30</td>\n",
       "      <td>chrY_5737420_C_A</td>\n",
       "      <td>PCDH11Y:NM_032973:exon5:c.C3501A:p.S1167R</td>\n",
       "    </tr>\n",
       "    <tr>\n",
       "      <th>6549</th>\n",
       "      <td>HN31</td>\n",
       "      <td>chrY_5737781_G_A</td>\n",
       "      <td>PCDH11Y:NM_032973:exon5:c.G3862A:p.G1288R</td>\n",
       "    </tr>\n",
       "  </tbody>\n",
       "</table>\n",
       "<p>6550 rows × 3 columns</p>\n",
       "</div>"
      ],
      "text/plain": [
       "     Parental                                        Mutation ID  \\\n",
       "0        HN30                               chr1_100133310_GC_AT   \n",
       "1        HN31                               chr1_100133310_GC_AT   \n",
       "2        HN30  chr11_71527629_0_CTGCTGCCAGTCCAGCTGCTGTAAGCCCT...   \n",
       "3        HN31  chr11_71527629_0_CTGCTGCCAGTCCAGCTGCTGTAAGCCCT...   \n",
       "4        HN30  chr15_20534591_TCTCCTCCTGCTCTCGTATCTTCTCCTCCTG...   \n",
       "...       ...                                                ...   \n",
       "6545     HN30                                   chrX_9937370_G_A   \n",
       "6546     HN30                                  chrY_20780968_G_T   \n",
       "6547    PCI13                                   chrY_5098304_A_T   \n",
       "6548     HN30                                   chrY_5737420_C_A   \n",
       "6549     HN31                                   chrY_5737781_G_A   \n",
       "\n",
       "                                       AAChange.refGene  \n",
       "0       TRMT13:NM_019083:exon1:c.142_143delinsAT:p.A48M  \n",
       "1       TRMT13:NM_019083:exon1:c.142_143delinsAT:p.A48M  \n",
       "2     KRTAP5-7:NM_001012503:exon1:c.329_330insCTGCTG...  \n",
       "3     KRTAP5-7:NM_001012503:exon1:c.329_330insCTGCTG...  \n",
       "4     GOLGA6L6:NM_001145004:exon8:c.1801_1842del:p.K...  \n",
       "...                                                 ...  \n",
       "6545  SHROOM2:NM_001320663:exon3:c.G329A:p.R110K,SHR...  \n",
       "6546          RPS4Y2:NM_001039567:exon7:c.G728T:p.G243V  \n",
       "6547  PCDH11Y:NM_032972:exon2:c.A726T:p.E242D,PCDH11...  \n",
       "6548          PCDH11Y:NM_032973:exon5:c.C3501A:p.S1167R  \n",
       "6549          PCDH11Y:NM_032973:exon5:c.G3862A:p.G1288R  \n",
       "\n",
       "[6550 rows x 3 columns]"
      ]
     },
     "execution_count": 45,
     "metadata": {},
     "output_type": "execute_result"
    }
   ],
   "source": [
    "fdf = pd.read_excel(\"Final mutations of interest_Jawad.xlsx\", usecols=[\"Parental\", \"Mutation ID\", \"AAChange.refGene\"])\n",
    "fdf"
   ]
  },
  {
   "cell_type": "code",
   "execution_count": 46,
   "id": "85e246a8",
   "metadata": {
    "ExecuteTime": {
     "end_time": "2022-05-16T20:05:04.229653Z",
     "start_time": "2022-05-16T20:05:04.194655Z"
    }
   },
   "outputs": [
    {
     "data": {
      "text/html": [
       "<div>\n",
       "<style scoped>\n",
       "    .dataframe tbody tr th:only-of-type {\n",
       "        vertical-align: middle;\n",
       "    }\n",
       "\n",
       "    .dataframe tbody tr th {\n",
       "        vertical-align: top;\n",
       "    }\n",
       "\n",
       "    .dataframe thead th {\n",
       "        text-align: right;\n",
       "    }\n",
       "</style>\n",
       "<table border=\"1\" class=\"dataframe\">\n",
       "  <thead>\n",
       "    <tr style=\"text-align: right;\">\n",
       "      <th></th>\n",
       "      <th>Parental</th>\n",
       "      <th>Mutation ID</th>\n",
       "      <th>AAChange.refGene</th>\n",
       "      <th>Num_val</th>\n",
       "    </tr>\n",
       "  </thead>\n",
       "  <tbody>\n",
       "    <tr>\n",
       "      <th>0</th>\n",
       "      <td>HN30</td>\n",
       "      <td>0chr1_100133310_GC_ATTRMT13:NM_019083:exon1:c....</td>\n",
       "      <td>TRMT13:NM_019083:exon1:c.142_143delinsAT:p.A48M</td>\n",
       "      <td>0</td>\n",
       "    </tr>\n",
       "    <tr>\n",
       "      <th>1</th>\n",
       "      <td>HN31</td>\n",
       "      <td>1chr1_100133310_GC_ATTRMT13:NM_019083:exon1:c....</td>\n",
       "      <td>TRMT13:NM_019083:exon1:c.142_143delinsAT:p.A48M</td>\n",
       "      <td>1</td>\n",
       "    </tr>\n",
       "    <tr>\n",
       "      <th>2</th>\n",
       "      <td>HN30</td>\n",
       "      <td>0chr11_71527629_0_CTGCTGCCAGTCCAGCTGCTGTAAGCCC...</td>\n",
       "      <td>KRTAP5-7:NM_001012503:exon1:c.329_330insCTGCTG...</td>\n",
       "      <td>0</td>\n",
       "    </tr>\n",
       "    <tr>\n",
       "      <th>3</th>\n",
       "      <td>HN31</td>\n",
       "      <td>1chr11_71527629_0_CTGCTGCCAGTCCAGCTGCTGTAAGCCC...</td>\n",
       "      <td>KRTAP5-7:NM_001012503:exon1:c.329_330insCTGCTG...</td>\n",
       "      <td>1</td>\n",
       "    </tr>\n",
       "    <tr>\n",
       "      <th>4</th>\n",
       "      <td>HN30</td>\n",
       "      <td>0chr15_20534591_TCTCCTCCTGCTCTCGTATCTTCTCCTCCT...</td>\n",
       "      <td>GOLGA6L6:NM_001145004:exon8:c.1801_1842del:p.K...</td>\n",
       "      <td>0</td>\n",
       "    </tr>\n",
       "    <tr>\n",
       "      <th>...</th>\n",
       "      <td>...</td>\n",
       "      <td>...</td>\n",
       "      <td>...</td>\n",
       "      <td>...</td>\n",
       "    </tr>\n",
       "    <tr>\n",
       "      <th>6545</th>\n",
       "      <td>HN30</td>\n",
       "      <td>0chrX_9937370_G_ASHROOM2:NM_001320663:exon3:c....</td>\n",
       "      <td>SHROOM2:NM_001320663:exon3:c.G329A:p.R110K,SHR...</td>\n",
       "      <td>0</td>\n",
       "    </tr>\n",
       "    <tr>\n",
       "      <th>6546</th>\n",
       "      <td>HN30</td>\n",
       "      <td>0chrY_20780968_G_TRPS4Y2:NM_001039567:exon7:c....</td>\n",
       "      <td>RPS4Y2:NM_001039567:exon7:c.G728T:p.G243V</td>\n",
       "      <td>0</td>\n",
       "    </tr>\n",
       "    <tr>\n",
       "      <th>6547</th>\n",
       "      <td>PCI13</td>\n",
       "      <td>2chrY_5098304_A_TPCDH11Y:NM_032972:exon2:c.A72...</td>\n",
       "      <td>PCDH11Y:NM_032972:exon2:c.A726T:p.E242D,PCDH11...</td>\n",
       "      <td>2</td>\n",
       "    </tr>\n",
       "    <tr>\n",
       "      <th>6548</th>\n",
       "      <td>HN30</td>\n",
       "      <td>0chrY_5737420_C_APCDH11Y:NM_032973:exon5:c.C35...</td>\n",
       "      <td>PCDH11Y:NM_032973:exon5:c.C3501A:p.S1167R</td>\n",
       "      <td>0</td>\n",
       "    </tr>\n",
       "    <tr>\n",
       "      <th>6549</th>\n",
       "      <td>HN31</td>\n",
       "      <td>1chrY_5737781_G_APCDH11Y:NM_032973:exon5:c.G38...</td>\n",
       "      <td>PCDH11Y:NM_032973:exon5:c.G3862A:p.G1288R</td>\n",
       "      <td>1</td>\n",
       "    </tr>\n",
       "  </tbody>\n",
       "</table>\n",
       "<p>6550 rows × 4 columns</p>\n",
       "</div>"
      ],
      "text/plain": [
       "     Parental                                        Mutation ID  \\\n",
       "0        HN30  0chr1_100133310_GC_ATTRMT13:NM_019083:exon1:c....   \n",
       "1        HN31  1chr1_100133310_GC_ATTRMT13:NM_019083:exon1:c....   \n",
       "2        HN30  0chr11_71527629_0_CTGCTGCCAGTCCAGCTGCTGTAAGCCC...   \n",
       "3        HN31  1chr11_71527629_0_CTGCTGCCAGTCCAGCTGCTGTAAGCCC...   \n",
       "4        HN30  0chr15_20534591_TCTCCTCCTGCTCTCGTATCTTCTCCTCCT...   \n",
       "...       ...                                                ...   \n",
       "6545     HN30  0chrX_9937370_G_ASHROOM2:NM_001320663:exon3:c....   \n",
       "6546     HN30  0chrY_20780968_G_TRPS4Y2:NM_001039567:exon7:c....   \n",
       "6547    PCI13  2chrY_5098304_A_TPCDH11Y:NM_032972:exon2:c.A72...   \n",
       "6548     HN30  0chrY_5737420_C_APCDH11Y:NM_032973:exon5:c.C35...   \n",
       "6549     HN31  1chrY_5737781_G_APCDH11Y:NM_032973:exon5:c.G38...   \n",
       "\n",
       "                                       AAChange.refGene Num_val  \n",
       "0       TRMT13:NM_019083:exon1:c.142_143delinsAT:p.A48M       0  \n",
       "1       TRMT13:NM_019083:exon1:c.142_143delinsAT:p.A48M       1  \n",
       "2     KRTAP5-7:NM_001012503:exon1:c.329_330insCTGCTG...       0  \n",
       "3     KRTAP5-7:NM_001012503:exon1:c.329_330insCTGCTG...       1  \n",
       "4     GOLGA6L6:NM_001145004:exon8:c.1801_1842del:p.K...       0  \n",
       "...                                                 ...     ...  \n",
       "6545  SHROOM2:NM_001320663:exon3:c.G329A:p.R110K,SHR...       0  \n",
       "6546          RPS4Y2:NM_001039567:exon7:c.G728T:p.G243V       0  \n",
       "6547  PCDH11Y:NM_032972:exon2:c.A726T:p.E242D,PCDH11...       2  \n",
       "6548          PCDH11Y:NM_032973:exon5:c.C3501A:p.S1167R       0  \n",
       "6549          PCDH11Y:NM_032973:exon5:c.G3862A:p.G1288R       1  \n",
       "\n",
       "[6550 rows x 4 columns]"
      ]
     },
     "execution_count": 46,
     "metadata": {},
     "output_type": "execute_result"
    }
   ],
   "source": [
    "# USES COPY OF CONVERSION BUT DOESNT REFERENCE CONVERSION VAR INSIDE FUNCTION\n",
    "fdf.loc[fdf['Parental'] == \"HN30\", 'Num_val'] = '0'\n",
    "fdf.loc[fdf['Parental'] == \"HN31\", 'Num_val'] = '1'\n",
    "fdf.loc[fdf['Parental'] == \"PCI13\", 'Num_val'] = '2'\n",
    "\n",
    "fdf['Mutation ID'] = fdf['Num_val'] + fdf['Mutation ID'] + fdf['AAChange.refGene']\n",
    "fdf\n",
    "# df['new_col'] = np.where(df['colA'].isin([0, 1]), df['colB'], df['colC'])"
   ]
  },
  {
   "cell_type": "code",
   "execution_count": 54,
   "id": "76fea4ba",
   "metadata": {
    "ExecuteTime": {
     "end_time": "2022-05-16T20:07:31.632010Z",
     "start_time": "2022-05-16T20:07:30.951019Z"
    }
   },
   "outputs": [
    {
     "name": "stdout",
     "output_type": "stream",
     "text": [
      "6586\n",
      "[True, True, True, False, True, True, True, True, True, True, True, True, True, True, True, True, True, True, True, True, True, True, True, True, True, True, True, True, True, True, True, True, True, True, True, True, True, True, True, True, True, True, True, True, True, True, True, True, True, True, True, True, True, True, True, True, True, True, True, True, True, True, True, True, True, True, True, True, True, True, True, True, True, True, True, True, True, True, True, True, True, True, True, True, True, True, True, True, True, True, True, True, True, True, True, True, True, True, True, True, True, True, True, True, True, True, True, True, True, True, True, True, True, True, True, True, True, True, True, True, True, True, True, True, True, True, True, True, True, True, True, True, True, True, True, True, True, True, True, True, True, True, True, True, True, True, True, True, True, True, True, True, True, True, True, True, True, True, True, True, True, True, True, True, True, True, True, True, True, True, True, True, True, True, True, True, True, True, True, True, True, True, True, True, True, True, True, True, True, True, True, True, True, True, True, True, True, True, True, True, True, True, True, True, True, True, True, True, True, True, True, True, True, True, True, True, True, True, True, True, True, True, True, True, True, True, True, True, True, True, True, True, True, True, True, True, True, True, True, True, True, True, True, True, True, True, True, True, True, True, True, True, True, True, True, True, True, True, True, True, True, True, True, True, True, True, True, True, True, True, True, True, True, True, True, True, True, True, True, True, True, True, True, True, True, True, True, True, True, True, True, True, True, True, True, True, True, True, True, True, True, True, True, True, True, True, True, True, True, True, True, True, True, True, True, True, True, True, True, True, False, True, True, True, False, True, True, True, True, True, True, True, True, True, True, True, True, True, True, True, True, True, True, True, True, True, True, True, True, True, True, True, True, True, True, True, True, True, True, True, True, True, True, True, True, True, True, True, True, True, True, True, True, True, False, True, True, True, True, True, True, False, False, True, False, True, True, True, True, True, True, True, True, True, True, True, True, True, True, True, True, True, True, True, True, True, True, True, True, True, True, True, True, True, True, True, True, True, True, True, True, True, True, True, True, True, True, True, True, True, True, True, True, True, True, True, True, True, True, True, True, True, True, True, True, True, True, True, True, True, True, True, False, True, True, True, True, False, True, True, True, True, True, True, True, True, True, True, True, True, True, True, True, True, True, True, True, True, True, True, True, True, True, True, True, True, True, True, True, True, True, True, True, True, True, True, True, True, True, True, True, True, True, True, True, True, True, True, True, True, True, True, True, True, True, True, True, True, True, True, True, True, True, True, True, True, True, True, True, True, True, True, True, True, True, True, True, True, True, True, True, True, True, True, True, True, True, True, True, True, True, True, True, True, True, True, True, True, True, True, True, True, True, True, True, True, True, True, True, True, True, True, True, True, True, True, True, True, True, True, True, True, True, True, True, True, True, True, True, True, True, True, True, True, True, True, True, True, True, True, True, True, True, True, True, True, True, True, True, True, True, True, True, True, True, True, True, True, True, True, True, True, True, True, True, True, True, True, True, True, True, True, True, True, True, True, True, True, True, True, True, True, True, True, True, True, True, True, True, True, True, True, True, True, True, True, True, True, True, True, True, True, True, True, True, True, True, True, True, True, True, True, True, True, True, True, True, True, True, True, True, True, True, True, True, True, True, True, True, True, True, True, True, True, True, True, False, True, True, True, True, True, True, True, True, True, True, True, True, True, True, True, True, True, True, True, True, True, True, True, True, True, True, True, True, True, True, True, True, True, True, True, True, False, True, True, True, True, True, True, True, True, True, True, True, True, True, True, True, True, True, True, True, True, True, True, True, True, True, True, True, True, True, True, True, True, True, True, True, True, True, True, True, True, True, True, True, True, True, True, True, True, True, True, True, True, True, True, True, True, True, True, True, True, True, True, True, True, True, True, True, True, True, True, True, True, True, True, True, True, True, True, True, True, True, True, True, True, True, True, True, True, True, True, True, True, True, True, True, True, True, True, True, True, True, True, True, True, True, True, True, True, True, True, True, True, True, True, True, True, True, True, True, True, True, True, True, True, True, True, True, True, True, True, True, True, True, True, True, True, True, True, True, True, True, True, True, True, True, True, True, True, True, True, True, True, True, True, True, True, True, True, True, True, True, True, True, True, True, True, True, True, True, True, True, True, True, True, True, True, True, True, True, True, True, True, True, True, True, True, True, True, True, True, True, True, True, True, True, True, True, True, True, True, True, True, True, True, True, True, True, True, True, True, True, True, True, True, True, True, True, True, True, True, True, True, True, True, True, True, True, True, True, True, True, True, True, True, True, True, True, True, True, True, True, True, True, True, True, True, True, True, True, True, True, True, True, True, True, True, True, True, True, True, True, True, True, True, True, True, True, True, True, True, True, True, True, True, True, True, True, True, True, True, True, True, True, True, True, True, True, True, True, True, True, True, True, False, True, True, True, True, True, True, True, False, True, True, False, True, True, True, True, True, True, True, True, True, True, True, True, True, True, True, True, True, True, True, True, True, True, True, True, True, True, True, True, False, True, True, False, True, True, True, True, True, True, True, True, True, True, True, True, True, True, False, False, True, True, True, True, True, True, True, True, True, True, True, True, True, True, True, True, True, True, True, True, True, True, True, True, True, True, True, True, True, True, True, True, True, True, True, True, True, True, True, True, True, True, True, True, True, True, True, True, True, True, True, True, True, True, True, True, True, True, True, True, True, True, True, True, True, True, True, True, True, True, True, True, True, True, True, True, True, True, True, True, True, True, True, True, True, True, True, True, True, True, True, True, False, True, True, True, True, True, True, True, True, True, True, True, True, True, True, True, True, True, True, True, True, True, True, True, True, True, True, True, True, True, True, True, True, True, True, True, True, True, True, True, True, True, True, True, True, True, True, True, True, True, True, True, True, True, True, True, True, True, True, True, True, True, True, True, True, True, True, True, True, True, True, True, True, True, True, True, True, True, True, True, True, True, True, True, True, True, True, True, True, True, True, True, True, True, True, True, True, True, True, True, True, True, True, True, True, True, True, True, True, True, True, True, True, True, True, True, True, True, True, True, True, True, True, True, True, True, True, True, True, True, True, True, True, True, True, True, True, True, True, True, True, True, True, True, True, True, True, True, True, True, True, True, True, True, True, True, True, True, True, True, True, True, True, True, True, True, True, True, True, True, True, True, True, True, True, True, True, True, True, True, True, True, True, True, True, True, True, True, True, True, True, True, True, True, True, True, True, True, True, True, True, True, True, True, True, True, True, True, True, True, True, True, True, True, True, True, True, True, True, True, True, True, True, True, True, True, True, True, True, True, True, True, True, True, True, True, True, True, True, True, True, True, True, True, True, True, True, True, True, True, True, True, True, True, True, True, True, True, True, True, True, True, True, True, True, True, True, True, True, True, True, True, True, True, True, True, True, True, True, True, True, True, True, True, True, True, True, True, True, True, True, True, True, True, True, True, True, True, True, True, True, True, True, True, True, True, True, False, True, True, True, True, True, True, True, True, True, True, True, True, True, True, True, True, True, True, True, True, True, True, True, True, True, True, True, True, True, True, True, True, True, True, True, True, True, True, True, True, True, True, True, True, True, True, True, True, True, True, True, True, True, True, True, True, True, True, True, True, True, True, True, True, True, True, True, True, True, True, True, True, True, True, True, True, True, True, True, True, True, True, True, True, True, True, True, True, True, True, True, True, True, True, True, True, True, True, True, True, True, True, True, True, True, True, True, True, True, True, True, True, True, True, True, True, True, True, True, True, True, True, True, True, True, True, True, True, True, True, True, True, True, True, True, True, True, True, True, True, True, True, True, True, True, True, True, True, True, True, True, True, True, True, True, True, True, True, True, True, True, True, True, True, True, True, True, True, True, True, True, True, True, True, True, True, True, True, True, True, True, True, True, True, True, True, True, True, True, True, True, True, True, True, True, True, True, True, True, True, True, True, True, True, True, True, True, True, True, True, True, True, True, True, True, True, True, True, True, True, True, True, True, True, True, True, True, True, True, True, True, True, True, True, True, True, True, True, True, True, True, True, True, True, True, True, True, True, True, True, True, True, True, True, False, True, True, True, True, True, True, True, True, True, True, True, True, True, True, True, True, True, True, True, True, True, True, True, True, True, True, True, True, True, True, True, True, True, True, True, True, True, True, True, True, True, True, True, True, True, True, True, True, True, True, True, True, True, True, True, True, True, True, True, True, True, True, True, True, True, True, True, True, True, True, True, True, True, True, False, True, True, True, True, False, True, True, True, True, True, True, True, True, True, True, True, True, True, True, True, True, True, True, True, True, True, True, True, True, True, True, True, True, True, True, True, True, True, True, True, True, True, True, True, True, False, True, True, True, True, True, True, True, True, True, True, False, False, True, False, True, True, True, True, True, True, True, True, True, True, True, True, True, True, True, True, True, True, True, True, True, True, True, True, True, True, True, True, True, True, True, True, True, True, True, True, True, True, True, True, True, True, True, True, True, True, True, True, True, True, True, True, True, True, True, True, True, True, True, True, True, True, True, True, True, True, True, True, True, True, True, True, True, True, True, True, True, True, True, True, True, True, True, True, True, True, True, True, True, True, True, True, True, True, True, True, True, True, True, True, True, True, True, True, True, True, True, True, True, True, True, True, True, True, True, True, True, True, True, True, True, True, True, True, True, True, True, True, True, True, True, True, True, True, True, True, True, True, True, True, True, True, True, True, True, True, True, True, True, True, True, True, True, True, True, True, True, True, True, True, True, True, True, True, True, True, True, True, True, True, True, True, True, True, True, True, True, True, True, True, True, True, True, True, True, True, True, True, True, True, True, True, True, True, True, True, True, True, True, True, True, True, True, True, True, True, True, True, True, True, True, True, True, True, True, True, True, True, True, True, True, True, True, True, True, True, True, True, True, True, True, True, True, True, True, True, True, True, True, True, True, True, True, True, True, True, True, True, True, True, True, True, True, True, True, True, True, True, True, True, True, True, True, True, True, True, True, True, True, True, True, True, True, True, True, True, True, True, True, True, True, True, True, True, True, True, True, True, True, True, True, True, True, True, True, True, True, True, True, True, True, True, True, True, True, True, True, True, True, True, True, True, True, True, True, True, True, True, True, True, True, True, True, True, True, True, True, True, True, True, True, True, True, True, True, True, True, True, True, True, True, True, True, True, True, True, True, True, True, True, True, True, True, True, True, True, True, True, True, True, True, True, True, True, True, True, True, True, True, True, True, True, True, True, True, True, True, True, True, True, True, True, True, True, True, True, True, True, True, True, True, True, True, True, True, True, True, True, True, True, True, True, True, True, True, True, True, True, True, True, True, True, True, True, True, True, True, True, True, True, True, True, True, True, True, True, True, True, True, True, True, True, True, True, True, True, True, True, True, True, True, True, True, True, True, True, True, True, True, True, True, True, True, True, True, True, True, True, True, True, True, True, True, True, True, True, True, True, True, True, True, True, True, True, True, True, True, True, True, True, True, True, True, True, True, True, True, True, True, True, True, True, True, True, True, True, True, True, True, True, True, True, True, True, True, True, True, True, True, True, True, True, True, True, True, True, True, True, True, True, True, True, True, True, True, True, True, True, True, True, True, True, True, True, True, True, True, True, True, True, True, True, True, True, True, True, True, True, True, True, True, True, True, True, True, True, True, True, True, True, True, True, True, True, True, True, True, True, True, True, True, True, True, True, True, True, True, True, True, True, True, True, True, True, True, True, True, True, True, True, True, True, True, True, True, True, True, True, True, True, True, True, True, True, True, True, True, True, True, True, True, True, True, True, True, True, True, True, True, True, True, True, True, True, True, True, True, True, True, True, True, True, True, True, True, True, True, True, True, True, True, True, True, True, True, True, True, True, True, True, True, True, True, True, True, True, True, True, True, True, True, True, True, True, True, False, True, True, True, True, True, True, True, True, True, True, True, True, True, True, True, True, True, True, True, True, True, True, True, True, True, True, True, True, True, True, True, True, True, True, True, True, True, True, True, True, True, True, True, True, True, True, True, True, True, True, True, True, True, True, True, True, True, True, True, True, True, True, True, True, True, True, True, True, True, True, True, True, True, True, True, True, True, True, True, True, True, True, True, True, True, True, True, True, True, True, True, True, True, True, True, True, True, True, True, True, True, True, True, True, True, True, True, True, True, True, True, True, True, True, True, True, True, True, True, True, True, True, True, True, True, True, True, True, True, True, True, True, True, True, True, True, True, True, True, True, True, True, True, True, True, True, True, True, True, True, True, True, True, True, True, True, True, False, True, True, True, True, True, True, True, True, True, True, True, True, True, True, True, True, True, True, True, False, True, True, True, True, True, True, True, True, True, True, True, True, True, True, True, True, True, True, True, True, True, True, True, True, True, True, True, True, True, True, True, True, True, True, True, True, True, True, True, True, True, True, True, True, True, True, True, True, True, True, True, True, True, True, True, True, True, True, True, True, True, True, True, True, True, True, True, True, True, True, True, True, True, True, True, True, True, True, True, True, True, True, True, True, True, True, True, True, True, True, True, True, True, True, True, False, True, True, True, True, True, True, True, True, True, True, True, True, True, True, True, True, True, True, True, True, True, True, True, True, True, True, True, True, True, True, True, True, True, True, True, True, True, True, True, True, True, True, True, True, True, True, True, True, True, True, True, True, True, True, True, True, True, True, True, True, True, True, True, True, True, True, True, True, True, True, True, True, True, True, True, True, True, True, True, True, True, True, True, True, True, True, True, True, True, True, True, True, True, True, True, True, True, True, True, True, True, True, True, True, True, True, True, True, True, True, True, True, True, True, True, True, True, True, True, True, True, True, True, True, True, True, True, True, True, True, True, True, True, True, True, True, True, True, True, True, True, True, True, True, True, True, True, True, True, True, True, True, True, True, True, True, True, True, True, True, True, True, True, True, True, True, True, True, True, True, True, True, True, True, True, True, True, True, True, True, True, True, True, True, True, True, True, True, True, True, True, True, True, True, True, True, True, True, True, True, True, True, True, True, True, True, True, True, True, True, True, True, True, True, True, True, True, True, True, True, True, True, True, True, True, True, True, True, True, True, True, True, True, True, True, True, True, True, True, True, True, True, True, True, True, True, True, True, True, True, True, True, True, True, True, True, True, True, True, True, True, True, True, True, True, True, True, True, True, True, True, True, True, True, True, True, True, True, True, True, True, True, True, True, True, True, True, True, True, True, True, True, True, True, True, True, True, True, True, True, True, True, True, True, True, True, True, True, True, True, True, True, True, True, True, True, True, True, True, True, True, True, True, True, True, True, True, True, True, True, True, True, True, True, True, True, True, True, True, True, True, True, True, True, False, True, True, True, True, True, True, True, True, True, True, True, True, True, True, True, True, True, True, True, True, True, True, True, True, True, True, True, True, True, True, True, True, True, True, True, True, True, True, True, True, True, True, True, True, True, True, True, True, True, True, True, True, True, True, True, True, True, True, True, True, True, True, True, True, True, True, True, True, True, True, True, True, True, True, True, True, True, True, True, True, True, True, True, True, True, True, True, True, True, True, True, True, True, True, True, True, True, True, True, True, True, True, True, True, True, True, True, True, True, True, True, True, True, True, True, True, True, True, True, True, True, True, True, True, True, True, True, True, True, True, True, True, True, True, True, True, True, True, True, True, True, True, True, True, True, True, True, True, True, True, True, True, True, True, True, True, True, True, True, True, True, True, True, True, True, True, True, True, True, True, True, True, True, True, True, True, True, True, True, True, True, True, True, True, True, True, True, True, True, True, True, True, True, True, True, True, True, True, True, True, True, True, True, True, True, True, True, True, True, True, True, True, True, True, True, True, True, True, True, True, True, True, True, True, True, True, True, True, True, True, True, True, True, True, True, True, True, True, True, True, True, True, True, True, True, True, True, True, True, True, True, True, True, True, True, True, True, True, True, True, True, True, True, True, True, True, True, True, True, True, True, True, True, True, True, True, True, True, True, True, True, True, True, True, True, True, True, True, True, True, True, True, True, True, True, True, True, True, True, True, True, True, True, True, True, True, True, True, True, True, True, True, True, True, True, True, True, True, True, True, True, True, True, True, True, True, True, True, True, True, True, True, True, True, True, True, True, True, True, True, True, True, True, True, True, True, True, True, True, True, True, True, True, True, True, True, True, True, True, True, True, True, True, True, True, True, True, True, True, True, True, True, True, True, True, True, True, True, True, True, True, True, True, True, True, True, True, True, True, True, True, True, True, True, True, True, True, True, True, True, True, True, True, True, True, True, True, True, True, True, True, True, True, True, True, True, True, True, True, True, True, True, True, True, True, True, True, True, True, True, True, True, True, True, True, True, True, True, True, True, True, True, True, True, True, True, True, True, True, True, True, True, True, True, True, True, True, True, True, True, True, True, True, True, True, True, True, True, True, False, False, True, False, True, True, True, True, True, True, True, True, True, True, True, True, True, True, True, True, True, True, True, True, True, True, True, True, True, True, True, True, True, True, True, True, True, True, True, True, True, True, True, True, True, True, True, True, True, True, True, True, True, True, True, True, True, True, True, True, True, True, True, True, True, True, True, True, True, True, True, True, True, True, True, True, True, True, True, True, True, True, True, True, True, True, True, True, True, True, True, True, True, True, True, True, True, True, True, True, True, True, True, True, True, True, True, True, True, True, True, True, True, True, True, True, True, True, True, True, True, True, True, True, True, True, True, True, True, True, True, True, True, True, True, True, True, True, True, True, True, True, True, True, True, True, True, True, False, True, True, True, True, True, True, True, True, True, True, True, True, True, True, True, True, True, True, True, True, True, True, True, True, True, True, True, True, True, True, True, True, True, True, True, True, True, True, True, True, True, True, True, True, True, True, True, True, True, True, True, True, True, True, True, True, True, True, True, True, True, True, True, True, True, True, True, True, True, True, True, True, True, True, True, True, True, True, True, True, True, True, True, True, True, True, True, True, True, True, True, True, True, True, True, True, True, True, True, True, True, True, True, True, True, True, True, True, True, True, True, True, True, True, True, True, True, True, True, True, True, True, True, True, True, True, True, True, True, True, True, True, True, True, True, True, True, True, True, True, True, True, True, True, True, True, True, True, True, True, True, True, True, True, True, True, True, True, True, True, True, True, True, True, True, True, True, True, True, True, True, True, True, True, True, True, True, True, True, True, True, True, True, True, True, True, True, True, True, True, True, True, True, True, True, True, True, True, True, True, True, True, True, True, True, True, True, True, True, True, True, True, True, True, True, True, True, True, True, True, True, True, True, True, True, True, True, True, True, True, True, True, True, True, True, True, True, True, True, True, True, True, True, True, True, True, True, True, True, True, True, True, True, True, True, True, True, True, True, True, True, True, True, True, True, True, True, True, True, True, True, True, True, True, True, True, True, True, True, True, True, True, True, True, True, True, True, True, True, True, True, True, True, True, True, True, True, True, True, True, True, True, True, True, True, True, True, True, True, True, True, True, True, True, True, True, True, True, True, True, True, True, True, True, True, True, True, True, True, True, True, True, True, True, True, True, False, True, True, True, True, True, True, True, True, True, True, True, True, True, True, True, True, True, True, True, True, True, True, True, True, True, True, True, True, True, True, True, True, True, True, True, True, True, True, True, True, True, True, True, True, True, True, True, True, True, True, True, True, True, True, True, True, True, True, True, True, True, True, True, True, True, True, True, True, True, True, True, True, True, True, True, True, True, True, True, True, True, True, True, True, True, True, True, True, True, True, True, True, True, True, True, True, True, True, True, True, True, True, True, True, True, True, True, True, True, True, True, True, True, True, True, True, True, True, True, True, True, True, True, True, True, True, True, True, True, True, True, True, True, True, True, True, True, True, True, True, True, True, True, True, True, True, True, True, True, True, True, True, True, True, True, True, True, True, True, True, True, True, True, True, True, True, True, True, True, True, True, True, True, True, True, True, True, True, True, True, True, True, True, True, True, True, True, True, True, True, True, True, True, True, True, True, True, True, True, True, True, True, True, True, True, True, True, True, True, True, True, True, True, True, True, True, True, True, True, True, True, True, True, True, True, True, True, True, True, True, True, True, True, True, True, True, True, True, True, True, True, True, True, True, True, True, True, True, True, True, True, True, True, True, True, True, True, True, True, True, True, True, True, True, True, True, True, True, True, True, True, True, True, True, True, True, True, True, True, True, True, True, True, True, True, True, True, True, True, True, True, True, True, True, True, True, True, True, True, True, True, True, True, True, True, True, True, True, True, True, True, True, True, True, True, True, True, True, True, True, True, True, True, True, True, True, True, True, True, True, True, True, True, True, True, True, True, True, True, True, True, True, True, True, True, True, True, True, True, True, True, True, True, True, False, True, True, True, True, True, True, True, True, True, True, True, True, True, True, True, True, True, True, True, True, True, True, True, True, True, True, True, True, True, True, True, True, True, True, True, True, True, True, True, True, True, True, True, True, True, True, True, True, True, True, True, True, True, True, True, True, True, True, True, True, True, True, True, True, True, True, True, True, True, True, True, True, True, True, True, True, True, True, True, True, True, True, True, True, True, True, True, True, True, True, True, True, True, True, True, True, True, True, True, True, True, True, True, True, True, True, True, True, True, True, True, True, False, True, True, True, True, True, True, True, True, True, True, True, True, True, True, True, True, True, True, True, True, True, True, True, True, True, True, True, True, True, True, True, True, True, True, True, True, True, True, True, True, True, True, True, True, True, True, True, True, True, True, True, True, True, True, True, True, True, True, True, True, True, True, True, True, True, True, True, True, True, True, True, True, True, True, True, True, True, True, True, True, True, True, True, True, True, True, True, True, True, True, True, True, True, True, True, True, True, True, True, True, True, True, True, True, True, True, True, True, True, True, True, True, True, True, True, True, True, True, True, True, True, True, True, True, True, True, True, True, True, True, True, True, True, True, True, True, True, True, True, True, True, True, True, True, True, True, True, True, True, True, True, True, True, True, True, True, True, True, True, True, True, True, True, True, True, True, True, True, True, True, True, True, True, True, True, True, True, True, True, True, True, True, True, True, True, True, True, True, True, False, True, True, True, True, True, True, True, True, True, True, True, True, True, True, True, True, True, True, True, True, True, True, True, True, True, True, True, True, True, True, True, True, True, True, True, True, True, True, True, True, True, True, True, True, True, True, True, True, True, True, True, True, True, True, True, True, True, True, True, True, True, True, True, True, True, True, True, True, True, True, True, True, True, True, True, True, True, True, True, True, True, True, True, True, True, True, True, True, True, True, True, True, True, True, True, True, True, True, True, True, True, True, True, True, True, True, True, True, True, True, True, True, True, True, True, True, True, True, True, True, True, True, True, True, True, True, True, True, True, True, True, True, True, True, True, True, True, True, True, True, True, True, True, True, True, True, True, True, True, True, True, True, True, True, True, True, True, True, True, True, True, True, True, True, True, True, True, True, True, True, True, True, True, True, True, True, True, True, True, True, True, True, True, True, True, True, True, True, True, True, True, True, True, True, True, True, True, True, True, True, True, True, True, True, True, True, True, True, True, True, True, True, True, True, True, True, True, True, True, True, True, True, True, True, True, True, True, True, True, True, True, True, True, True, True, True, True, True, True, True, True, True, True, True, True, True, True, True, True, True, True, True, True, True, True, True, True, True, True, True, True, True, True, True, True, True, True, True, True, True, True, True, True, True, True, True, True, True, True, True, True, True, True, True, True, True, True, True, True, True, True, True, True, True, True, True, True, True, True, True, True, True, True, True, True, True, True, True, True, True, True, True, True, True, True, True, True, True, True, True, True, True, True, True, True, True, True, True, True, True, True, True, True, True, True, True, True, True, True, True, True, True, True, True, True, True, True, True, True, True, True, True, True, True, True, True, True, True, True, True, True, True, True, True, True, True, True, True, True, True, True, True, True, True, True, True, True, True, True, True, True, True, True, True, True, True, True, True, True, True, True, True, True, True, True, True, True, True, True, True, True, True, True, True, True, True, True, True, True, True, True, True, True, True, True, True, True, True, True, True, True, True, True, True, True, True, True, True, True, True, True, True, True, True, True, True, True, True, True, True, True, True, True, True, True, True, True, True, True, True, True, True, True, True, True, True, True, True, True, True, True, True, True, True, True, True, True, True, True, True, True, True, True, True, True, True, True, True, True, True, True, True, True, True, True, True, True, True, True, True, True, True, True, True, True, True, True, True, True, True, True, True, True, True, True, True, True, True, True, True, True, True, True, True, True, True, True, True, True, True, True, True, True, True, True, True, True, True, True, True, True, True, True, True, True, True, True, True, True, True, True, True, True, True, True, True, True, True, True, True, True, True, True, True, True, True, True, True, True, True, True, True, True, True, True, True, True, True, True, True, True, True, True, True, True, True, True, True, True, True, True, True, True, True, True, True, True, True, True, True, True, True, True, True, True, True, True, True, True, True, True, True, True, True, True, True, True, True, True, True, True, True, True, True, True, True, True, True, True, True, True, True, True, True, True, True, True, True, True, True, True, True, True, True, True, True, True, True, True, True, True, True, True, True, True, True, True, True, True, True, True, True, True, True, True, True, True, True, True, True, True, True, True, True, True, True, True, True, True, True, True, True, True, True, True, True, True, True, True, True, True, True, True, True, True, True, True, True, True, True, True, True, True, True, True, True, True, True, True, True, True, True, True, True, True, True, True, True, True, True, True, True, True, True, True, True, True, True, True, True, True, True, True, True, True, True, True, True, True, True, True, True, True, True, True, True, True, True, True, True, True, True, True, True, True, True, True, True, True, True, True, True, True, True, True, True, True, True, True, True, True, True, True, True, True, True, True, True, True, True, True, True, True, True, True, True, True, True, True, True, True, True, True, True, True, True, True, True, True, True, True, True, True, True, True, True, True, True, True, True, True, True, True, True, True, True, True, True, True, True, True, True, True, True, True, True, True, True, True, True, True, True, True, True, True, True, True, True, True, True, True, True, True, True, True, True, True, True, True, True, True, True, True, True, True, True, True, True, True, True, True, True, True, True, True, True, True, True, True, True, True, True, True, True, True, True, True, True, True, True, True, True, True, True, True, True, True, True, True, True, True, True, True, True, True, True, True, True, True, True, True, True, True, True, True, True, True, True, True, True, True, True, True, True, True, True, True, True, True, True, True, True, True, True, True, True, True, True, True, True, True, True, True, True, True, True, True, True, True, True, True, True, True, True, True, True, True, True, True, True, True, True, True, True, True, True, True, True, True, True, True, True, True, True, True, True, True, True, True, True, True, True, True, True, True, True, True, True, True, True, True, True, True, True, True, True, True, True, True, True, True, True, True, True, True, True, True, True, True, True, True, True, True, True, True, True, True, True, True, True, True, True, True, True, False, True, True, True, True, True, True, True, True, True, True, True, True, True, True, True, True, True, True, True, True, True, True, True, True, True, True, True, True, True, True, True, True, True, True, True, True, True, True, True, True, True, True, True, True, True, True, True, True, True, True, True, True, True, True, True, True, True, True, True, True, True, True, True, True, True, True, True, True, True, True, True, True, True, True, True, True, True, True, True, True, True, True, True, True, True, True, True, True, True, True, True, True, True, True, True, True, True, True, True, True, True, True, True, True, True, True, True, True, True, True, True, True, True, True, True, True, True, True, True, True, True, True, True, True, True, True, True, True, True, True, True, True, True, True, True, True, True, True, True, True, True, True, True, True, True, True, True, True, True, True, True, True, True, True, True, True, True, True, True, True, True, True, True, True, True, True, True, True, True, True, True, True, True, True, True, True, True, True, True, True, True, True, True, True, True, True, True, True, True, True, True, True, True, True, True, True, True, True, True, True, True, True, True, True, True, True, True, True, True, True, True, True, True, True, True, True, True, True, True, True, True, True, True, True, True, True, True, True, True, True, True, True, True, True, True, True, True, True, True, True, True, True, True, True, True, True, True, True, True, True, True, True, True, True, True, True, True, True, True, True, True, True, True, True, True, True, True, True, True, True, True, True, True, True, True, True, True, True, True, True, True, True, True, True, True, True, True, True, True, True, True, True, True, True, True, True, True, True, True, True, True, True, True, True, True, True, True, True, True, True, True, True, True, True, True, True, True, True, True, True, True, True, True, True, True, True, True, True, True, True, True, True, True, True, True, True, True, True, True, True, True, True, True, True, True, True, True, True, True, True, True, True, True, True, True, True, True, True, True, True, False, True, True, True, True, True, True, True, True, True, True, True, True, True, True, True, True, True, True, True, True, True, True, True, True, True, True, True, True, True, True, True, True, True, True, True, True, True, True, True, True, True, True, True, True, True, True, True, True, True, True, True, True, True, True, True, True, True, True, True, True, True, True, True, True, True, True, True, True, True, True, True, True, True, True, True, True, True, True, True, True, True, True, True, True, True, True, True, True, True, True, True, True, True, True, True, True, True, True, True, True, True, True, True, True, True, True, True, True, True, True, True, True, True, True, True, True, True, True, True, False, True, True, True, True, True, True, True, True, True, True, True, True, True, True, True, True, True, True, True, True, True, True, True, True, True, True, True, True, True, True, True, True, True, True, True, True, True, True, True, True, True, True, True, True, True, True, True, True, True, True, True, True, True, True, True, True, True, True, True, True, True, True, True, True, True, True, True, True, True, True, True, False, True, True, True, True, True, True, True, True, True, True, True, True, True, True, True, True, True, True, True, True, True, True, True, True, True, True, True, True, True, True, True, True, True, True, True, True, True, True, True, True, True, True, True, True, True, True, True, True, True, True, True, True, True, True, True, True, True, True, True, True, True, True, True, True, True, True, True, True, True, True, True, True, True, True, True, True, True, True, True, True, True, True, True, True, True, True, True, True, True, True, True, True, True, True, True, False, True, True, True, True, True, True, True, True, True, True, True, True, True, True, True, True, True, True, True, True, True, True, True, True, True, True, True, True, True, True, True, True, True, True, True, True, True, True, True, True, True, True, True, True, True, True, True, True, True, True, True, True, True, True, True, True, True, True, True, True, True, True, True, True, True, True, True, True, True, True, True, True, True, True, True, True, True, True, True, True, True, True, True, True, True, True, True, True, True, True, True, True, True, True, True, True, True, True, True, True, True, True, True, True, True, True, True, True, True, True, True, True, True, True, True, True, True, True, True, True, True, True, True, True, True, True, True, True, True, True, True, True, True, True, True, True, True, True, True, True, True, True, True, True, True, True, True, True, True, True, True, True, True, True, True, True, True, True, True, True, True, True, True, True, True, True, True, True, True, True, True, True, True, True, True, True, True, True, True, True, True, True, True, True, True, True, True, True, True, True, True, True, True, True, True, True, True, True, True, True, True, True, True, True, True, True, True, True, True, True, True, True, True, True, True, True, True, True, True, True, True, True, True, True, True, True, True, True, True, True, True, True, True, True, True, True, True, True, True, True, True, True, True, True, True, True, True, True, True, True, True, True, True, True, True, True, True, True, True, True, True, True, True, True, True, True, True, True, True, True, True, True, True, True, True, True, True, True, True, True, True, True, True, True, True, True, True, True, True, True, True, True, True, True, True, True, True, True, True, True, True, True, False, True, True, True, True, True, True, True, True, True, True, True, True, True, True, True, True, True, True, True, True, True, True, True, True, True, True, True, True, True, True, True, True, False, False, True, False, True, True, True, True, True, True, True, True, True, True, True, True, True, True, True, True, True, True, True, True, True, True, True, True, True, True, True, True, True, True, True, True, True, True, True, True, True, True, True, True, True, True, True, True, True, True, True, True, True, True, True, True, True, True, True, True, True, True, True, True, True, True, True, True, True, True, True, True, True, True, True, True, True, True, True, True, True, True, True, True, True, True, True, True, True, True, True, True, True, True, True, True, True, True, True, True, True, True, True, True, True, True, True, True, True, True, True, True, True, True, True, True, True, True, True, True, True, True, True, True, True, True, True, True, True, True, True, True, True, True, True, True, True, True, True, True, True, True, True, True, True, True, True, True, True, True, True, True, True, True, True, True, True, True, True, True, True, True, True, True, True, True, True, True, True, True, True, True, True, True, True, True, True, True, True, True, True, True, True, True, True, True, True, True, True, True, True, True, True, True, True, True, True, True, True, True, True, True, True, True, True, True, True, True, True, True, True, True, True, True, True, True, True, True, True, True, True, True, True, True, True, True, True, True, True, True, True, True, True, True, True, True, True, True, True, True, True, True, True, True, True, True, True, True, True, True, True, True, True, True, True, True, True, True, True, True, True, True, True, True, True, True, True, True, True, True, True, True, True, True, True, True, True, True, True, True, True, True, True, True, True, True, True, True, True, True, True, True, True, True, True, True, True, True, True, True, True, True, True, True, True, True, True, True, True, True, True, True, True, True, True, True, True, True, True, True, True, True, True, True, True, True, True, True, True, True, True, True, True, True, True, True, True, True, True, True, True, True, True, True, True, True, True, True, True, True, True, True, True, True, True, True, True, True, True, True, True, True, True, True, True, True, True, True, True, True, True, True, True, True, True, True, False, True, True, True, True, True, True, True, True, True, True, True, True, True, True, True, True, True, True, True, True, True, True, True, True, True, True, True, True, True, True, True, True, True, True, True, True, True, True, True, True, True, True, True, True, True, True, True, True, True, True, True, True, True, True, True, True, True, True, True, True, True, True, True, True, True, True, True, True, True, True, True, True, True, True, True, True, True, True, True, True, True, True, True, True, True, True, True, True, True, True, True, True, True, True, True, True, True, True, True, True, True, True, True, True, True, True, True, True, True, True, True, True, True, True, True, True, True, True, True, True, True, True, True, True, True, True, True, True, True, True, True, True, True, True, True, True, True, True, True, True, True, True, True, True, True, True, True, True, True, True, True, True, True, True, True, True, True, True, True, True, True, True, True, True, True, True, True, True, True, True, True, True, True, True, True, True, True, True, True, True, True, True, True, True, True, True, True, True, True, True, True, True, True, True, True, True, True, True, True, True, True, True, True, True, True, True, True, True, True, True, True, True, True, True, True, True, True, True, True, True, True, True, True, True, True, False, True, True, True, True, True, True, True, True, True, True, True, True, True, True, True, True, True, True, True, True, True, True, True, True, True, True, True, True, True, True, True, True, True, True, True, True, True, True, True, True, True, True, True, True, True, True, True, True, True, True, True, True, True, True, True, True, True, True, True, True, True, True, True, True, True, True, True, True, True, True, True, True, True, True, True, True, True, True, True, True, True, True, True, True, True, True, True, True, True, True, True, True, True, True, True, True, True, True, True, True, True, True, True, True, True, True, True, True, True, True, True, True, True, True, True, True, True, True, True, True, True, True, True, True, True, True, True, True, True, True, True, True, True, True, True, True, True, True, True, True, True, True, True, True, True, True, True, True, True, True, True, True, True, True, True, True, True, True, True, True, True, True, True, True, True, True, True, True, True, True, True, True, True, True, True, True, True, True, True, True, True, True, True, True, True, True, True, True, True, True, True, True, True, True, True, True, True, True, True, True, True, True, True, True, True, True, True, True, True, True, True, True, False, False, False, True, True, True, True, True, True, True, True, True, True, True, True, True, True, True, True, True, True, True, True, True, True, True, True, True, True, True, True, True, True, True, True, True, True, True, True, True, True, True, True, True, True, True, True, True, True, True, True, True, True, True, True, True, True, True, True, True, True, True, True, True, True, True, True, True, True, True, True, True, True, True, True, True, True, True, True, True, True, True, True, True, True, True, True, True, True, True, True, True, True, True, True, True, True, True, True, True, True, True, True, True, True, True, True, True, True, True, True, True, True, True, True, True, True, True, True, True, True, True, True, True, True, True, True, True, True, True, True, True, True, True, True, True, True, True, True, True, False, True, True, True, True, True, True, True, True, True, True, True, True, True, True, True, True, True, True, True, True, True, True, True, True, True, True, True, True, True, True, True, True, True, True, True, True, True, True, True, True, True, True, True, True, True, True, True, True, True, True, True, True, True, True, True, True, True, True, True, True, True, True, True, True, True, True, True, True, True, True, True, True, True, True, True, True, True, True, True, True, True, True, True, True, True, True, True, True, True, True, True, True, True, True, True, True, True, True, True, True, True, True, True, True, True, True, True, True, True, True, True, True, True, True, True, True, True, True, True, True, True, True, True, True, True, True, True, True, True, True, True, True, True, True, True, True, True, True, True, True, True, True, True, True, True, True, True, True, True, True, True, True, True, True, True, True, True, True, True, True, True, True, True, True, True, True, True, True, True, True, True, True, True, True, True, True, True, True, True, True, True, True, True, True, True, True, True, True, True, True, True, True, True, True, True, True, True, True, True, True, True, True, True, True, True, True, True, True, True, True, True, True, True, True, True, True, True, True, True, True, True, True, True, True, True, True, True, True, True, True, True, True, True, True, True, True, True, True, True, True, True, True, True, True, True, True, True, True, True, True, True, True, True, True, True, True, True, True, True, True, True, True, True, True, True, True, True, True, True, True, True, True, True, True, True, True, True, True, True, True, True, True, True, True, True, True, True, True, True, True, True, True, True, False, True, True, True, True, True, True, True, True, True, True, True, True, True, True, True, True, True, True, True, True, True, True, True, True, True, True, True, True, True, True, True, True, True, True, True, True, True, True, True, True, True, True, True, True, True, True, True, True, True, True, True, True, True, True, True, True, True, True, True, True, True, True, True, True, True, True, True, True, True, True, True, True, True, True, True, True, True, True, True, True, True, True, True, True, True, True, True, True, True, True, True, True, True, True, True, True, True, True, True, True, True, True, True, True, True, True, True, True, True, True, True, True, True, True, True, True, True, True, True, True, True, True, True, True, True, True, True, True, True, True, True, True, True, True, True, True, True, True, True, True, True, True, True, True, True, True, True, True, True, True, True, True, True, True, True, True, True, True, True, True, True, True, True, True, True, True, True, True, True, True, True, True, True, True, True, True, True, True, True, True, True, True, True, True, True, True, True, True, True, True, True, True, True, True, True, True, True, True, True, True, True, True, True, True, True, True, True, True, True, True, True, True, True, True, True, True, True, True, True, True, True, True, True, True, True, True, True, True, True, True, True, True, True, True, True]\n"
     ]
    }
   ],
   "source": [
    "master_ids = mf['Mutation ID'].to_numpy()\n",
    "print(len(np.unique(master_ids)))\n",
    "ref_ids = fdf['Mutation ID'].to_numpy()\n",
    "truth_arr = np.isin(master_ids, ref_ids)\n",
    "print(list(truth_arr))"
   ]
  },
  {
   "cell_type": "code",
   "execution_count": 52,
   "id": "b1c00ed8",
   "metadata": {
    "ExecuteTime": {
     "end_time": "2022-05-16T20:06:19.589837Z",
     "start_time": "2022-05-16T20:06:19.500722Z"
    }
   },
   "outputs": [
    {
     "name": "stdout",
     "output_type": "stream",
     "text": [
      "8193\n",
      "8249\n",
      "6586\n"
     ]
    }
   ],
   "source": [
    "# validating the truth array, is number of true equal to length of fdf\n",
    "print(np.count_nonzero(truth_arr, axis=0))\n",
    "print(len(master_ids))\n",
    "print(len(np.unique(master_ids)))"
   ]
  },
  {
   "cell_type": "code",
   "execution_count": 90,
   "id": "74c89f4a",
   "metadata": {
    "ExecuteTime": {
     "end_time": "2022-05-19T19:59:34.942471Z",
     "start_time": "2022-05-19T19:59:34.748325Z"
    }
   },
   "outputs": [],
   "source": [
    "# master_ids = mf['Mutation ID'].to_numpy()\n",
    "# ref_ids = fdf['Mutation ID'].to_numpy()\n",
    "# mf['Remove'] = np.isin(master_ids, ref_ids)\n",
    "# mf = mf.loc[mf.Remove, :]"
   ]
  },
  {
   "cell_type": "code",
   "execution_count": null,
   "id": "20a37e77",
   "metadata": {},
   "outputs": [],
   "source": [
    "# xsorted = np.argsort(ref_ids)\n",
    "# res = xsorted[np.searchsorted(ref_ids[xsorted], master_ids)]\n",
    "# print(np.sum(res == np.arange(0,6550)))"
   ]
  },
  {
   "cell_type": "code",
   "execution_count": 93,
   "id": "de3e707e",
   "metadata": {
    "ExecuteTime": {
     "end_time": "2022-05-19T20:37:32.808166Z",
     "start_time": "2022-05-19T20:37:32.315163Z"
    }
   },
   "outputs": [],
   "source": [
    "metadata = \"\"\"\n",
    "##fileformat=VCFv4.2\n",
    "##source=VarDict_v1.8.2\n",
    "##INFO=<ID=SAMPLE,Number=1,Type=String,Description=\"Sample name (with whitespace translated to underscores)\">\n",
    "##INFO=<ID=TYPE,Number=1,Type=String,Description=\"Variant Type: SNV Insertion Deletion Complex\">\n",
    "##INFO=<ID=DP,Number=1,Type=Integer,Description=\"Total Depth\">\n",
    "##INFO=<ID=END,Number=1,Type=Integer,Description=\"Chr End Position\">\n",
    "##INFO=<ID=VD,Number=1,Type=Integer,Description=\"Variant Depth\">\n",
    "##INFO=<ID=AF,Number=A,Type=Float,Description=\"Allele Frequency\">\n",
    "##INFO=<ID=BIAS,Number=1,Type=String,Description=\"Strand Bias Info\">\n",
    "##INFO=<ID=REFBIAS,Number=1,Type=String,Description=\"Reference depth by strand\">\n",
    "##INFO=<ID=VARBIAS,Number=1,Type=String,Description=\"Variant depth by strand\">\n",
    "##INFO=<ID=PMEAN,Number=1,Type=Float,Description=\"Mean position in reads\">\n",
    "##INFO=<ID=PSTD,Number=1,Type=Float,Description=\"Position STD in reads\">\n",
    "##INFO=<ID=QUAL,Number=1,Type=Float,Description=\"Mean quality score in reads\">\n",
    "##INFO=<ID=QSTD,Number=1,Type=Float,Description=\"Quality score STD in reads\">\n",
    "##INFO=<ID=SBF,Number=1,Type=Float,Description=\"Strand Bias Fisher p-value\">\n",
    "##INFO=<ID=ODDRATIO,Number=1,Type=Float,Description=\"Strand Bias Odds ratio\">\n",
    "##INFO=<ID=MQ,Number=1,Type=Float,Description=\"Mean Mapping Quality\">\n",
    "##INFO=<ID=SN,Number=1,Type=Float,Description=\"Signal to noise\">\n",
    "##INFO=<ID=HIAF,Number=1,Type=Float,Description=\"Allele frequency using only high quality bases\">\n",
    "##INFO=<ID=ADJAF,Number=1,Type=Float,Description=\"Adjusted AF for indels due to local realignment\">\n",
    "##INFO=<ID=SHIFT3,Number=1,Type=Integer,Description=\"No. of bases to be shifted to 3 prime for deletions due to alternative alignment\">\n",
    "##INFO=<ID=MSI,Number=1,Type=Float,Description=\"MicroSatellite. > 1 indicates MSI\">\n",
    "##INFO=<ID=MSILEN,Number=1,Type=Float,Description=\"MicroSatellite unit length in bp\">\n",
    "##INFO=<ID=NM,Number=1,Type=Float,Description=\"Mean mismatches in reads\">\n",
    "##INFO=<ID=LSEQ,Number=1,Type=String,Description=\"5' flanking seq\">\n",
    "##INFO=<ID=RSEQ,Number=1,Type=String,Description=\"3' flanking seq\">\n",
    "##INFO=<ID=GDAMP,Number=1,Type=Integer,Description=\"No. of amplicons supporting variant\">\n",
    "##INFO=<ID=TLAMP,Number=1,Type=Integer,Description=\"Total of amplicons covering variant\">\n",
    "##INFO=<ID=NCAMP,Number=1,Type=Integer,Description=\"No. of amplicons don't work\">\n",
    "##INFO=<ID=AMPFLAG,Number=1,Type=Integer,Description=\"Top variant in amplicons don't match\">\n",
    "##INFO=<ID=HICNT,Number=1,Type=Integer,Description=\"High quality variant reads\">\n",
    "##INFO=<ID=HICOV,Number=1,Type=Integer,Description=\"High quality total reads\">\n",
    "##INFO=<ID=SPLITREAD,Number=1,Type=Integer,Description=\"No. of split reads supporting SV\">\n",
    "##INFO=<ID=SPANPAIR,Number=1,Type=Integer,Description=\"No. of pairs supporting SV\">\n",
    "##INFO=<ID=SVTYPE,Number=1,Type=String,Description=\"SV type: INV DUP DEL INS FUS\">\n",
    "##INFO=<ID=SVLEN,Number=1,Type=Integer,Description=\"The length of SV in bp\">\n",
    "##INFO=<ID=DUPRATE,Number=1,Type=Float,Description=\"Duplication rate in fraction\">\n",
    "##FILTER=<ID=q22.5,Description=\"Mean Base Quality Below 22.5\">\n",
    "##FILTER=<ID=Q10,Description=\"Mean Mapping Quality Below 10\">\n",
    "##FILTER=<ID=p8,Description=\"Mean Position in Reads Less than 8\">\n",
    "##FILTER=<ID=SN1.5,Description=\"Signal to Noise Less than 1.5\">\n",
    "##FILTER=<ID=Bias,Description=\"Strand Bias\">\n",
    "##FILTER=<ID=pSTD,Description=\"Position in Reads has STD of 0\">\n",
    "##FILTER=<ID=d3,Description=\"Total Depth < 3\">\n",
    "##FILTER=<ID=v2,Description=\"Var Depth < 2\">\n",
    "##FILTER=<ID=f0.01,Description=\"Allele frequency < 0.01\">\n",
    "##FILTER=<ID=MSI12,Description=\"Variant in MSI region with 12 non-monomer MSI or 13 monomer MSI\">\n",
    "##FILTER=<ID=NM5.25,Description=\"Mean mismatches in reads >= 5.25, thus likely false positive\">\n",
    "##FILTER=<ID=InGap,Description=\"The variant is in the deletion gap, thus likely false positive\">\n",
    "##FILTER=<ID=InIns,Description=\"The variant is adjacent to an insertion variant\">\n",
    "##FILTER=<ID=Cluster0bp,Description=\"Two variants are within 0 bp\">\n",
    "##FILTER=<ID=LongMSI,Description=\"The somatic variant is flanked by long A/T (>=14)\">\n",
    "##FILTER=<ID=AMPBIAS,Description=\"Indicate the variant has amplicon bias.\">\n",
    "##FORMAT=<ID=GT,Number=1,Type=String,Description=\"Genotype\">\n",
    "##FORMAT=<ID=DP,Number=1,Type=Integer,Description=\"Total Depth\">\n",
    "##FORMAT=<ID=VD,Number=1,Type=Integer,Description=\"Variant Depth\">\n",
    "##FORMAT=<ID=AD,Number=R,Type=Integer,Description=\"Allelic depths for the ref and alt alleles in the order listed\">\n",
    "##FORMAT=<ID=AF,Number=A,Type=Float,Description=\"Allele Frequency\">\n",
    "##FORMAT=<ID=RD,Number=2,Type=Integer,Description=\"Reference forward, reverse reads\">\n",
    "##FORMAT=<ID=ALD,Number=2,Type=Integer,Description=\"Variant forward, reverse reads\">\n",
    "##INFO=<ID=ANNOVAR_DATE,Number=1,Type=String,Description=\"Flag the start of ANNOVAR annotation for one alternative allele\">\n",
    "##INFO=<ID=Func.refGene,Number=.,Type=String,Description=\"Func.refGene annotation provided by ANNOVAR\">\n",
    "##INFO=<ID=Gene.refGene,Number=.,Type=String,Description=\"Gene.refGene annotation provided by ANNOVAR\">\n",
    "##INFO=<ID=GeneDetail.refGene,Number=.,Type=String,Description=\"GeneDetail.refGene annotation provided by ANNOVAR\">\n",
    "##INFO=<ID=ExonicFunc.refGene,Number=.,Type=String,Description=\"ExonicFunc.refGene annotation provided by ANNOVAR\">\n",
    "##INFO=<ID=AAChange.refGene,Number=.,Type=String,Description=\"AAChange.refGene annotation provided by ANNOVAR\">\n",
    "##INFO=<ID=ALLELE_END,Number=0,Type=Flag,Description=\"Flag the end of ANNOVAR annotation for one alternative allele\">\n",
    "\"\"\""
   ]
  },
  {
   "cell_type": "code",
   "execution_count": null,
   "id": "e35736bb",
   "metadata": {},
   "outputs": [],
   "source": []
  }
 ],
 "metadata": {
  "kernelspec": {
   "display_name": "Python 3",
   "language": "python",
   "name": "python3"
  },
  "language_info": {
   "codemirror_mode": {
    "name": "ipython",
    "version": 3
   },
   "file_extension": ".py",
   "mimetype": "text/x-python",
   "name": "python",
   "nbconvert_exporter": "python",
   "pygments_lexer": "ipython3",
   "version": "3.9.5"
  }
 },
 "nbformat": 4,
 "nbformat_minor": 5
}
